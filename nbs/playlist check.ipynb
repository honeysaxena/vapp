{
 "cells": [
  {
   "cell_type": "code",
   "execution_count": 1,
   "id": "3581c66c",
   "metadata": {},
   "outputs": [
    {
     "name": "stdout",
     "output_type": "stream",
     "text": [
      "F:\\videoapp\n"
     ]
    }
   ],
   "source": [
    "%cd .."
   ]
  },
  {
   "cell_type": "code",
   "execution_count": 2,
   "id": "2d69bd81",
   "metadata": {},
   "outputs": [
    {
     "data": {
      "text/plain": [
       "'F:\\\\videoapp'"
      ]
     },
     "execution_count": 2,
     "metadata": {},
     "output_type": "execute_result"
    }
   ],
   "source": [
    "%pwd"
   ]
  },
  {
   "cell_type": "code",
   "execution_count": 3,
   "id": "1236dbf8",
   "metadata": {},
   "outputs": [
    {
     "name": "stdout",
     "output_type": "stream",
     "text": [
      "F:\\videoapp\\videoapp\n"
     ]
    }
   ],
   "source": [
    "from videoapp.database import SessionLocal\n",
    "from videoapp.playlists.models import Playlists\n",
    "from videoapp.videos.models import Video\n",
    "from videoapp.database import Base, engine\n",
    "import datetime\n",
    "from videoapp.videos.models import Video\n"
   ]
  },
  {
   "cell_type": "code",
   "execution_count": 4,
   "id": "dc0b8ea2",
   "metadata": {},
   "outputs": [],
   "source": [
    "Base.metadata.create_all(bind=engine)  \n"
   ]
  },
  {
   "cell_type": "code",
   "execution_count": 5,
   "id": "e5df30d6",
   "metadata": {},
   "outputs": [],
   "source": [
    "session = SessionLocal()\n"
   ]
  },
  {
   "cell_type": "code",
   "execution_count": null,
   "id": "9150e100",
   "metadata": {},
   "outputs": [],
   "source": []
  },
  {
   "cell_type": "code",
   "execution_count": 6,
   "id": "ff3b598c",
   "metadata": {},
   "outputs": [],
   "source": [
    "obj = Playlists(title='hello world')\n",
    "session.add(obj)\n",
    "session.commit()\n",
    "session.refresh(obj)"
   ]
  },
  {
   "cell_type": "code",
   "execution_count": null,
   "id": "fb93c266",
   "metadata": {},
   "outputs": [],
   "source": [
    "q = session.query(Video).limit(5).all() #.values_list('host_id', flat=True)\n",
    "host_ids = []\n",
    "for val in q:\n",
    "    val = val.host_id\n",
    "    host_ids.append(val)\n",
    "print(host_ids)"
   ]
  },
  {
   "cell_type": "code",
   "execution_count": null,
   "id": "905771c1",
   "metadata": {},
   "outputs": [],
   "source": [
    "#obj.updated = datetime.datetime.utcnow()\n",
    "#session.commit()"
   ]
  },
  {
   "cell_type": "code",
   "execution_count": null,
   "id": "e5780880",
   "metadata": {},
   "outputs": [],
   "source": [
    "obj.add_host_ids(host_ids=host_ids[:3], replace_all=True)"
   ]
  },
  {
   "cell_type": "code",
   "execution_count": null,
   "id": "401c706d",
   "metadata": {},
   "outputs": [],
   "source": [
    "obj.host_ids"
   ]
  },
  {
   "cell_type": "code",
   "execution_count": null,
   "id": "e56fd897",
   "metadata": {},
   "outputs": [],
   "source": [
    "video_q = session.query(Video).filter(Video.host_id.in_(obj.host_ids)).all()\n",
    "video_q"
   ]
  },
  {
   "cell_type": "code",
   "execution_count": null,
   "id": "67749e88",
   "metadata": {},
   "outputs": [],
   "source": [
    "obj.get_videos()"
   ]
  },
  {
   "cell_type": "code",
   "execution_count": null,
   "id": "a6f76374",
   "metadata": {},
   "outputs": [],
   "source": []
  },
  {
   "cell_type": "code",
   "execution_count": null,
   "id": "3298b225",
   "metadata": {},
   "outputs": [],
   "source": [
    "#video_id = session.query(Playlists).filter(Playlists.host_ids.in_(obj.host_ids)).all()\n",
    "#video_id"
   ]
  },
  {
   "cell_type": "code",
   "execution_count": 15,
   "id": "189deddb",
   "metadata": {},
   "outputs": [
    {
     "data": {
      "text/plain": [
       "<sqlalchemy.engine.cursor.CursorResult at 0x1d74623ebc0>"
      ]
     },
     "execution_count": 15,
     "metadata": {},
     "output_type": "execute_result"
    }
   ],
   "source": [
    "from sqlalchemy import text\n",
    "stmt = text(\"SELECT * FROM playlists\")\n",
    "r = session.execute(stmt)\n",
    "r"
   ]
  },
  {
   "cell_type": "code",
   "execution_count": 16,
   "id": "ae4c6110",
   "metadata": {},
   "outputs": [],
   "source": [
    "for obj in r:\n",
    "    print(obj.title)"
   ]
  },
  {
   "cell_type": "code",
   "execution_count": null,
   "id": "f440bfd5",
   "metadata": {},
   "outputs": [],
   "source": []
  },
  {
   "cell_type": "code",
   "execution_count": null,
   "id": "a7755b85",
   "metadata": {},
   "outputs": [],
   "source": []
  }
 ],
 "metadata": {
  "kernelspec": {
   "display_name": "Python 3 (ipykernel)",
   "language": "python",
   "name": "python3"
  },
  "language_info": {
   "codemirror_mode": {
    "name": "ipython",
    "version": 3
   },
   "file_extension": ".py",
   "mimetype": "text/x-python",
   "name": "python",
   "nbconvert_exporter": "python",
   "pygments_lexer": "ipython3",
   "version": "3.10.0"
  }
 },
 "nbformat": 4,
 "nbformat_minor": 5
}
