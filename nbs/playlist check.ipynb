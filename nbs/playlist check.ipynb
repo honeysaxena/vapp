{
 "cells": [
  {
   "cell_type": "code",
   "execution_count": 1,
   "id": "3581c66c",
   "metadata": {},
   "outputs": [
    {
     "name": "stdout",
     "output_type": "stream",
     "text": [
      "F:\\videoapp\n"
     ]
    }
   ],
   "source": [
    "%cd .."
   ]
  },
  {
   "cell_type": "code",
   "execution_count": 2,
   "id": "2d69bd81",
   "metadata": {},
   "outputs": [],
   "source": [
    "%pwd"
   ]
  },
  {
   "cell_type": "code",
   "execution_count": 3,
   "id": "1236dbf8",
   "metadata": {},
   "outputs": [
    {
     "name": "stdout",
     "output_type": "stream",
     "text": [
      "F:\\videoapp\\videoapp\n"
     ]
    }
   ],
   "source": [
    "from videoapp.database import SessionLocal\n",
    "from videoapp.playlists.models import Playlists\n",
    "from videoapp.videos.models import Video\n",
    "from videoapp.database import Base, engine\n",
    "import datetime\n",
    "from videoapp.videos.models import Video\n",
    "from sqlalchemy.sql import text"
   ]
  },
  {
   "cell_type": "code",
   "execution_count": null,
   "id": "cf58c367",
   "metadata": {},
   "outputs": [],
   "source": []
  },
  {
   "cell_type": "code",
   "execution_count": 4,
   "id": "e5df30d6",
   "metadata": {},
   "outputs": [],
   "source": [
    "session = SessionLocal()\n",
    "allow_table_drop = False"
   ]
  },
  {
   "cell_type": "code",
   "execution_count": 5,
   "id": "bae59e33",
   "metadata": {},
   "outputs": [],
   "source": [
    "#session.rollback()"
   ]
  },
  {
   "cell_type": "code",
   "execution_count": 6,
   "id": "9150e100",
   "metadata": {},
   "outputs": [],
   "source": [
    "if allow_table_drop:\n",
    "    stmt = text('DROP TABLE IF EXISTS playlists')\n",
    "    r = session.execute(stmt)\n",
    "    for row in r:\n",
    "        print(row)"
   ]
  },
  {
   "cell_type": "code",
   "execution_count": 7,
   "id": "dc0b8ea2",
   "metadata": {},
   "outputs": [],
   "source": [
    "#Base.metadata.create_all(bind=engine)  \n"
   ]
  },
  {
   "cell_type": "code",
   "execution_count": 8,
   "id": "ff3b598c",
   "metadata": {},
   "outputs": [],
   "source": [
    "obj = Playlists(title='users playlists')\n",
    "session.add(obj)\n",
    "session.commit()\n",
    "session.refresh(obj)"
   ]
  },
  {
   "cell_type": "code",
   "execution_count": 32,
   "id": "cc607f72",
   "metadata": {},
   "outputs": [
    {
     "name": "stdout",
     "output_type": "stream",
     "text": [
      "c3363487-0ffd-11ee-9246-c8cc3aeb055d\n"
     ]
    }
   ],
   "source": [
    "q = list(session.query(Playlists).all())\n",
    "for row in q:\n",
    "    print(row.host_ids)"
   ]
  },
  {
   "cell_type": "code",
   "execution_count": 35,
   "id": "accf6492",
   "metadata": {},
   "outputs": [
    {
     "name": "stdout",
     "output_type": "stream",
     "text": [
      "users playlists\n",
      "2023-06-21 06:39:58.755984\n",
      "['KQ-u4RcFLBY', '6MzxihE41b8', 'sFV6R9GgPy4']\n",
      "c3363487-0ffd-11ee-9246-c8cc3aeb055d\n"
     ]
    }
   ],
   "source": [
    "print(obj.title)\n",
    "print(obj.updated)\n",
    "print(obj.host_ids)\n",
    "print(obj.db_id)"
   ]
  },
  {
   "cell_type": "code",
   "execution_count": 38,
   "id": "da6b0c74",
   "metadata": {},
   "outputs": [
    {
     "name": "stdout",
     "output_type": "stream",
     "text": [
      "['KQ-u4RcFLBY', '6MzxihE41b8', 'sFV6R9GgPy4'] <class 'uuid.UUID'>\n"
     ]
    }
   ],
   "source": [
    "q = session.query(Playlists).all()\n",
    "for row in q:\n",
    "    print(row.host_ids, type(row.db_id))"
   ]
  },
  {
   "cell_type": "code",
   "execution_count": 11,
   "id": "905771c1",
   "metadata": {},
   "outputs": [],
   "source": [
    "#obj.updated = datetime.datetime.utcnow()\n",
    "#session.commit()"
   ]
  },
  {
   "cell_type": "code",
   "execution_count": 12,
   "id": "e5780880",
   "metadata": {},
   "outputs": [],
   "source": [
    "#obj.add_host_ids(host_ids=host_ids[:3], replace_all=True)"
   ]
  },
  {
   "cell_type": "code",
   "execution_count": 13,
   "id": "401c706d",
   "metadata": {},
   "outputs": [],
   "source": [
    "#obj.host_ids"
   ]
  },
  {
   "cell_type": "code",
   "execution_count": 14,
   "id": "e56fd897",
   "metadata": {},
   "outputs": [
    {
     "data": {
      "text/plain": [
       "[]"
      ]
     },
     "execution_count": 14,
     "metadata": {},
     "output_type": "execute_result"
    }
   ],
   "source": []
  },
  {
   "cell_type": "code",
   "execution_count": 16,
   "id": "67749e88",
   "metadata": {},
   "outputs": [
    {
     "name": "stdout",
     "output_type": "stream",
     "text": [
      "['KQ-u4RcFLBY', '6MzxihE41b8', 'sFV6R9GgPy4', 'Ecir_Fq2goE', 'q8TY-HEKcIA']\n"
     ]
    }
   ],
   "source": [
    "\n",
    "q = list(session.query(Video).limit(5).all()) #.values_list('host_id', flat=True)\n",
    "host_ids = []\n",
    "for val in q:\n",
    "    val = val.host_id\n",
    "    host_ids.append(val)\n",
    "print(host_ids)\n"
   ]
  },
  {
   "cell_type": "code",
   "execution_count": 17,
   "id": "a6f76374",
   "metadata": {},
   "outputs": [
    {
     "data": {
      "text/plain": [
       "True"
      ]
     },
     "execution_count": 17,
     "metadata": {},
     "output_type": "execute_result"
    }
   ],
   "source": [
    "obj.add_host_ids(host_ids=host_ids[:3], replace_all=True)"
   ]
  },
  {
   "cell_type": "code",
   "execution_count": 19,
   "id": "189deddb",
   "metadata": {},
   "outputs": [
    {
     "data": {
      "text/plain": [
       "['KQ-u4RcFLBY', '6MzxihE41b8', 'sFV6R9GgPy4']"
      ]
     },
     "execution_count": 19,
     "metadata": {},
     "output_type": "execute_result"
    }
   ],
   "source": [
    "obj.host_ids"
   ]
  },
  {
   "cell_type": "code",
   "execution_count": 18,
   "id": "3298b225",
   "metadata": {},
   "outputs": [
    {
     "data": {
      "text/plain": [
       "[Video(title=None, host_id=KQ-u4RcFLBY, host_service=youtube),\n",
       " Video(title=None, host_id=6MzxihE41b8, host_service=youtube),\n",
       " Video(title=None, host_id=sFV6R9GgPy4, host_service=youtube)]"
      ]
     },
     "execution_count": 18,
     "metadata": {},
     "output_type": "execute_result"
    }
   ],
   "source": [
    "video_q = list(session.query(Video).filter(Video.host_id.in_(obj.host_ids)).all())\n",
    "video_q"
   ]
  },
  {
   "cell_type": "code",
   "execution_count": 25,
   "id": "ae4c6110",
   "metadata": {},
   "outputs": [
    {
     "data": {
      "text/plain": [
       "[<sqlalchemy.orm.query.Query at 0x1cc7d995c90>,\n",
       " <sqlalchemy.orm.query.Query at 0x1cc7d996530>,\n",
       " <sqlalchemy.orm.query.Query at 0x1cc7d996bf0>]"
      ]
     },
     "execution_count": 25,
     "metadata": {},
     "output_type": "execute_result"
    }
   ],
   "source": [
    "obj.get_videos()"
   ]
  },
  {
   "cell_type": "code",
   "execution_count": null,
   "id": "f440bfd5",
   "metadata": {},
   "outputs": [],
   "source": []
  },
  {
   "cell_type": "code",
   "execution_count": 23,
   "id": "a7755b85",
   "metadata": {},
   "outputs": [
    {
     "name": "stdout",
     "output_type": "stream",
     "text": [
      "Video(title=Nightmare Zoo| Horror Story | Cryptid Encounter, host_id=y2idM4NfOCM, host_service=youtube)\n"
     ]
    }
   ],
   "source": [
    "video_obj = session.query(Video).filter_by(host_id='y2idM4NfOCM')\n",
    "for r in video_obj:\n",
    "    print(r)"
   ]
  },
  {
   "cell_type": "code",
   "execution_count": null,
   "id": "02cc4fd2",
   "metadata": {},
   "outputs": [],
   "source": []
  }
 ],
 "metadata": {
  "kernelspec": {
   "display_name": "Python 3 (ipykernel)",
   "language": "python",
   "name": "python3"
  },
  "language_info": {
   "codemirror_mode": {
    "name": "ipython",
    "version": 3
   },
   "file_extension": ".py",
   "mimetype": "text/x-python",
   "name": "python",
   "nbconvert_exporter": "python",
   "pygments_lexer": "ipython3",
   "version": "3.10.0"
  }
 },
 "nbformat": 4,
 "nbformat_minor": 5
}
