{
 "cells": [
  {
   "cell_type": "code",
   "execution_count": 1,
   "id": "8b0a6673",
   "metadata": {},
   "outputs": [
    {
     "name": "stdout",
     "output_type": "stream",
     "text": [
      "F:\\videoapp\n"
     ]
    }
   ],
   "source": [
    "%cd F:\\videoapp"
   ]
  },
  {
   "cell_type": "code",
   "execution_count": 2,
   "id": "071d4cc7",
   "metadata": {},
   "outputs": [
    {
     "data": {
      "text/plain": [
       "'F:\\\\videoapp'"
      ]
     },
     "execution_count": 2,
     "metadata": {},
     "output_type": "execute_result"
    }
   ],
   "source": [
    "%pwd"
   ]
  },
  {
   "cell_type": "code",
   "execution_count": 3,
   "id": "d79d4073",
   "metadata": {},
   "outputs": [
    {
     "name": "stdout",
     "output_type": "stream",
     "text": [
      "F:\\videoapp\\videoapp\n"
     ]
    }
   ],
   "source": [
    "from videoapp.database import SessionLocal\n",
    "from videoapp.users.models import User\n",
    "from videoapp.videos.models import Video\n",
    "from videoapp.playlists.models import Playlists\n",
    "from videoapp.shortcuts import get_object_or_404\n",
    "from sqlalchemy.sql import text"
   ]
  },
  {
   "cell_type": "code",
   "execution_count": 4,
   "id": "c03b79a5",
   "metadata": {},
   "outputs": [],
   "source": [
    "session = SessionLocal()\n",
    "allow_table_drop = False"
   ]
  },
  {
   "cell_type": "code",
   "execution_count": null,
   "id": "be8b4598",
   "metadata": {},
   "outputs": [],
   "source": [
    "p1 = Playlists(title='Hello World')\n",
    "session.add(p1)\n",
    "session.commit()\n",
    "p1"
   ]
  },
  {
   "cell_type": "code",
   "execution_count": null,
   "id": "70e8ae21",
   "metadata": {},
   "outputs": [],
   "source": [
    "vhid = []\n",
    "video_q = session.query(Video).all()\n",
    "for q in video_q:\n",
    "    vhid.append(q.host_id)\n",
    "vhid "
   ]
  },
  {
   "cell_type": "code",
   "execution_count": null,
   "id": "daf95a75",
   "metadata": {},
   "outputs": [],
   "source": [
    "p1.add_host_ids(host_ids=vhid, replace_all=True)"
   ]
  },
  {
   "cell_type": "code",
   "execution_count": null,
   "id": "f39139b0",
   "metadata": {},
   "outputs": [],
   "source": [
    "p1.get_videos()\n",
    "\n",
    "print()\n",
    "\n",
    "for obj in p1.get_videos():\n",
    "    #print(obj)\n",
    "    print(obj.title)"
   ]
  },
  {
   "cell_type": "code",
   "execution_count": null,
   "id": "cdb4b5ab",
   "metadata": {},
   "outputs": [],
   "source": [
    "playlists_q = session.query(Playlists).filter_by(db_id='8d70c7b5-1359-11ee-87ac-c8cc3aeb055d')\n",
    "for pq in playlists_q:\n",
    "    print(pq)"
   ]
  },
  {
   "cell_type": "code",
   "execution_count": null,
   "id": "9a14530c",
   "metadata": {},
   "outputs": [],
   "source": [
    "for q in playlists_q:\n",
    "        print(q)"
   ]
  },
  {
   "cell_type": "code",
   "execution_count": null,
   "id": "900d40d7",
   "metadata": {},
   "outputs": [],
   "source": [
    "#if allow_table_drop:\n",
    "#    stmt = text('DROP TABLE IF EXISTS playlists')\n",
    "#    session.execute(stmt)"
   ]
  },
  {
   "cell_type": "code",
   "execution_count": 5,
   "id": "6a2eedb9",
   "metadata": {},
   "outputs": [],
   "source": [
    "from videoapp.database import Base, engine\n",
    "Base.metadata.create_all(bind=engine)\n"
   ]
  },
  {
   "cell_type": "code",
   "execution_count": null,
   "id": "dbd3329a",
   "metadata": {},
   "outputs": [],
   "source": [
    "'''\n",
    "playlists_obj = Playlists(title=\"Hello World\")\n",
    "session.add(playlists_obj)\n",
    "session.commit()\n",
    "session.refresh(playlists_obj)\n",
    "session.close()\n",
    "playlists_obj\n",
    "'''"
   ]
  },
  {
   "cell_type": "code",
   "execution_count": null,
   "id": "995275c5",
   "metadata": {},
   "outputs": [],
   "source": [
    "vhid = []\n",
    "video_q = session.query(Video.host_id)\n",
    "video_q1 = video_q.limit(5)\n",
    "for q in video_q1:\n",
    "    vhid.append(q)\n",
    "vhid    "
   ]
  },
  {
   "cell_type": "code",
   "execution_count": null,
   "id": "9d6e6c27",
   "metadata": {},
   "outputs": [],
   "source": [
    "p1_query = session.query(Playlists).filter_by(db_id='0af8ab5f-12a7-11ee-baec-c8cc3aeb055d')\n",
    "for q in p1_query:\n",
    "    print(q)"
   ]
  },
  {
   "cell_type": "code",
   "execution_count": null,
   "id": "1add5b8c",
   "metadata": {},
   "outputs": [],
   "source": [
    "v_res = []\n",
    "v1_query = session.query(Video).all()\n",
    "for v in v1_query:\n",
    "    v_res.append(v.host_id)\n",
    "v_res\n",
    "\n"
   ]
  },
  {
   "cell_type": "code",
   "execution_count": null,
   "id": "4b321a64",
   "metadata": {},
   "outputs": [],
   "source": [
    "q.add_host_ids(host_ids=v_res, replace_all=True)"
   ]
  },
  {
   "cell_type": "code",
   "execution_count": null,
   "id": "615b0270",
   "metadata": {},
   "outputs": [],
   "source": [
    "q.host_ids"
   ]
  },
  {
   "cell_type": "code",
   "execution_count": null,
   "id": "779943ec",
   "metadata": {},
   "outputs": [],
   "source": [
    "p1_query1 = session.query(Playlists).filter_by(db_id='0af8ab5f-12a7-11ee-baec-c8cc3aeb055d')\n",
    "for q1 in p1_query1:\n",
    "    print(q1)"
   ]
  },
  {
   "cell_type": "code",
   "execution_count": null,
   "id": "03c56e13",
   "metadata": {},
   "outputs": [],
   "source": [
    "q.get_videos()"
   ]
  },
  {
   "cell_type": "code",
   "execution_count": null,
   "id": "837e9f9c",
   "metadata": {},
   "outputs": [],
   "source": []
  },
  {
   "cell_type": "code",
   "execution_count": null,
   "id": "4ce2c167",
   "metadata": {},
   "outputs": [],
   "source": [
    "aa = get_object_or_404(Playlists, db_id='0af8ab5f-12a7-11ee-baec-c8cc3aeb055d')\n",
    "aa"
   ]
  },
  {
   "cell_type": "code",
   "execution_count": null,
   "id": "70fbff0c",
   "metadata": {},
   "outputs": [],
   "source": []
  },
  {
   "cell_type": "code",
   "execution_count": null,
   "id": "7d729bcb",
   "metadata": {},
   "outputs": [],
   "source": [
    "#pq = session.query(Playlists).filter_by(title='Video Trailers')\n",
    "#for obj in pq:\n",
    "#    print(obj)"
   ]
  },
  {
   "cell_type": "code",
   "execution_count": null,
   "id": "62952fef",
   "metadata": {},
   "outputs": [],
   "source": [
    "object1 = get_object_or_404(Playlists, db_id='0af8ab5f-12a7-11ee-baec-c8cc3aeb055d')\n",
    "#object1.host_ids\n",
    "#for id in object1.db_id:\n",
    "    #print(id)\n",
    "res = []    \n",
    "for t in object1.host_ids:\n",
    "    for s in t:\n",
    "        res.append(s[0])\n",
    "        #print(s[0])\n",
    "print(res)\n",
    "#print(object1.host_ids)\n",
    "print(type(object1.host_ids))\n",
    "print(object1.host_ids)\n",
    "\n",
    "#print(object1.title)\n",
    "#print(object1.path)\n",
    "#print(object1.host_ids)\n",
    "\n",
    "#for r in object1:\n",
    "#   for s in r:\n",
    "#   absprint(s)\n",
    "    "
   ]
  },
  {
   "cell_type": "code",
   "execution_count": null,
   "id": "63fdece1",
   "metadata": {},
   "outputs": [],
   "source": [
    "collection = res\n",
    "print(collection)\n",
    "print(collection[3])"
   ]
  },
  {
   "cell_type": "code",
   "execution_count": null,
   "id": "3f0d6218",
   "metadata": {},
   "outputs": [],
   "source": [
    "collection.pop(3)"
   ]
  },
  {
   "cell_type": "code",
   "execution_count": null,
   "id": "c8abe206",
   "metadata": {},
   "outputs": [],
   "source": [
    "object1.add_host_ids(host_ids=collection, replace_all=True)"
   ]
  },
  {
   "cell_type": "code",
   "execution_count": null,
   "id": "af403419",
   "metadata": {},
   "outputs": [],
   "source": [
    "object1.host_ids\n",
    "#for a in object1.host_ids:\n",
    "    #print(a)\n",
    "    #for b in a:\n",
    "     #   print(b[0])\n",
    "#print(type(b))\n",
    "#print(type(a))\n",
    "#print(type(object1))"
   ]
  },
  {
   "cell_type": "code",
   "execution_count": null,
   "id": "c2723b89",
   "metadata": {},
   "outputs": [],
   "source": []
  },
  {
   "cell_type": "code",
   "execution_count": null,
   "id": "ac58bef9",
   "metadata": {},
   "outputs": [],
   "source": [
    "print(object1.host_ids)"
   ]
  },
  {
   "cell_type": "code",
   "execution_count": null,
   "id": "795ed511",
   "metadata": {},
   "outputs": [],
   "source": [
    "object1.host_ids = collection\n",
    "session.commit()"
   ]
  },
  {
   "cell_type": "code",
   "execution_count": null,
   "id": "c115c062",
   "metadata": {},
   "outputs": [],
   "source": [
    "object1 = get_object_or_404(Playlists, db_id='0af8ab5f-12a7-11ee-baec-c8cc3aeb055d')\n",
    "print(object1.host_ids)"
   ]
  },
  {
   "cell_type": "code",
   "execution_count": null,
   "id": "9b8da7a8",
   "metadata": {},
   "outputs": [],
   "source": []
  },
  {
   "cell_type": "code",
   "execution_count": null,
   "id": "f6ea2662",
   "metadata": {},
   "outputs": [],
   "source": [
    "p3 = Playlists(title='Creator Videos')\n",
    "\n",
    "session.add(p3)\n",
    "session.commit()\n",
    "session.refresh(p3)\n",
    "p3"
   ]
  },
  {
   "cell_type": "code",
   "execution_count": null,
   "id": "07a52178",
   "metadata": {},
   "outputs": [],
   "source": [
    "vq = session.query(Video).all()\n",
    "for v in vq:\n",
    "    print(v.host_id)\n",
    "\n"
   ]
  },
  {
   "cell_type": "code",
   "execution_count": null,
   "id": "dceecb3b",
   "metadata": {},
   "outputs": [],
   "source": [
    "p3.add_host_ids(host_ids=v.host_id, replace_all=False)"
   ]
  },
  {
   "cell_type": "markdown",
   "id": "0285d628",
   "metadata": {},
   "source": [
    "# Query1"
   ]
  },
  {
   "cell_type": "code",
   "execution_count": 6,
   "id": "6c25db54",
   "metadata": {},
   "outputs": [
    {
     "name": "stdout",
     "output_type": "stream",
     "text": [
      "Playlists(db_id=8d70c7b5-1359-11ee-87ac-c8cc3aeb055d, user_id=None, updated=2023-06-25 13:07:51.913633, host_ids=[], title=Hello World)\n",
      "Playlists(db_id=8d70c7b4-1359-11ee-8b75-c8cc3aeb055d, user_id=None, updated=2023-06-25 13:40:40.408787, host_ids=[], title=Hello World)\n"
     ]
    }
   ],
   "source": [
    "query11 = session.query(Playlists).all()\n",
    "for q11 in query11:\n",
    "    print(q11)"
   ]
  },
  {
   "cell_type": "code",
   "execution_count": 7,
   "id": "19df9b83",
   "metadata": {},
   "outputs": [
    {
     "data": {
      "text/plain": [
       "Playlists(db_id=8d70c7b4-1359-11ee-8b75-c8cc3aeb055d, user_id=None, updated=2023-06-25 13:40:40.408787, host_ids=['some new list'], title=Hello World)"
      ]
     },
     "execution_count": 7,
     "metadata": {},
     "output_type": "execute_result"
    }
   ],
   "source": [
    "q11.host_ids = ['some new list']\n",
    "session.commit()\n",
    "q11"
   ]
  },
  {
   "cell_type": "markdown",
   "id": "bd92a0a8",
   "metadata": {},
   "source": [
    "# Query2"
   ]
  },
  {
   "cell_type": "code",
   "execution_count": 8,
   "id": "5fc10c6d",
   "metadata": {},
   "outputs": [
    {
     "name": "stdout",
     "output_type": "stream",
     "text": [
      "Playlists(db_id=8d70c7b5-1359-11ee-87ac-c8cc3aeb055d, user_id=None, updated=2023-06-25 13:07:51.913633, host_ids=[], title=Hello World)\n",
      "Playlists(db_id=8d70c7b4-1359-11ee-8b75-c8cc3aeb055d, user_id=None, updated=2023-06-25 13:40:40.408787, host_ids=['some new list'], title=Hello World)\n"
     ]
    }
   ],
   "source": [
    "query12 = session.query(Playlists).all()\n",
    "for q12 in query12:\n",
    "    print(q12)"
   ]
  },
  {
   "cell_type": "code",
   "execution_count": null,
   "id": "cc922765",
   "metadata": {},
   "outputs": [],
   "source": []
  }
 ],
 "metadata": {
  "kernelspec": {
   "display_name": "Python 3 (ipykernel)",
   "language": "python",
   "name": "python3"
  },
  "language_info": {
   "codemirror_mode": {
    "name": "ipython",
    "version": 3
   },
   "file_extension": ".py",
   "mimetype": "text/x-python",
   "name": "python",
   "nbconvert_exporter": "python",
   "pygments_lexer": "ipython3",
   "version": "3.10.0"
  }
 },
 "nbformat": 4,
 "nbformat_minor": 5
}
