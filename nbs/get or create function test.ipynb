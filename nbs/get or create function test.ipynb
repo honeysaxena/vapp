{
 "cells": [
  {
   "cell_type": "code",
   "execution_count": 1,
   "id": "ae882f1a",
   "metadata": {},
   "outputs": [
    {
     "name": "stdout",
     "output_type": "stream",
     "text": [
      "F:\\videoapp\n"
     ]
    }
   ],
   "source": [
    "%cd .."
   ]
  },
  {
   "cell_type": "code",
   "execution_count": 2,
   "id": "ede61cae",
   "metadata": {},
   "outputs": [
    {
     "data": {
      "text/plain": [
       "'F:\\\\videoapp'"
      ]
     },
     "execution_count": 2,
     "metadata": {},
     "output_type": "execute_result"
    }
   ],
   "source": [
    "%pwd"
   ]
  },
  {
   "cell_type": "code",
   "execution_count": 3,
   "id": "304e2031",
   "metadata": {},
   "outputs": [
    {
     "name": "stdout",
     "output_type": "stream",
     "text": [
      "F:\\videoapp\\videoapp\n"
     ]
    }
   ],
   "source": [
    "from videoapp.database import SessionLocal, Base, engine\n",
    "#from videoapp.playlists.models import Playlists\n",
    "from videoapp.videos.models import Video\n",
    "from videoapp.users.models import User\n",
    "from videoapp.videos.extractors import extract_video_id\n",
    "from videoapp.playlists.models import Playlists"
   ]
  },
  {
   "cell_type": "code",
   "execution_count": 4,
   "id": "e6d88801",
   "metadata": {},
   "outputs": [],
   "source": [
    "session = SessionLocal()"
   ]
  },
  {
   "cell_type": "code",
   "execution_count": 5,
   "id": "e2bd39d3",
   "metadata": {},
   "outputs": [],
   "source": [
    "Base.metadata.create_all(bind=engine)"
   ]
  },
  {
   "cell_type": "code",
   "execution_count": 6,
   "id": "7c6666a9",
   "metadata": {},
   "outputs": [
    {
     "name": "stdout",
     "output_type": "stream",
     "text": [
      "User(email=self.email='xyz@gmail.com', user_id=28fd7a8c-0bb1-11ee-b8c1-84eacb958499)\n"
     ]
    }
   ],
   "source": [
    "user1 = session.query(User).filter_by(email='xyz@gmail.com').one()\n",
    "print(user1)"
   ]
  },
  {
   "cell_type": "code",
   "execution_count": 7,
   "id": "ddd717e9",
   "metadata": {},
   "outputs": [],
   "source": [
    "url2 = \"https://www.youtube.com/watch?v=8NaHaRS0_DA\""
   ]
  },
  {
   "cell_type": "code",
   "execution_count": 32,
   "id": "bc696b2c",
   "metadata": {},
   "outputs": [
    {
     "name": "stdout",
     "output_type": "stream",
     "text": [
      "None\n",
      "[Video(title=None, host_id=8NaHaRS0_DA, host_service=youtube)] False\n"
     ]
    }
   ],
   "source": [
    "obj_2, created = Video.get_or_create(url2, user_id=user1.user_id)\n",
    "for o in obj_2:\n",
    "    print(o)\n",
    "print(obj_2, created)"
   ]
  },
  {
   "cell_type": "code",
   "execution_count": 35,
   "id": "e1d52963",
   "metadata": {},
   "outputs": [],
   "source": [
    "playlist_obj = session.query(Playlists).first()\n",
    "playlist_obj.add_host_ids(host_ids=[o.host_id]) #replace_all=True)\n",
    "session.commit()"
   ]
  },
  {
   "cell_type": "code",
   "execution_count": 36,
   "id": "3726b313",
   "metadata": {},
   "outputs": [
    {
     "data": {
      "text/plain": [
       "['8NaHaRS0_DA', '8NaHaRS0_DA']"
      ]
     },
     "execution_count": 36,
     "metadata": {},
     "output_type": "execute_result"
    }
   ],
   "source": [
    "playlist_obj.host_ids"
   ]
  },
  {
   "cell_type": "code",
   "execution_count": null,
   "id": "aff4de4b",
   "metadata": {},
   "outputs": [],
   "source": []
  }
 ],
 "metadata": {
  "kernelspec": {
   "display_name": "Python 3 (ipykernel)",
   "language": "python",
   "name": "python3"
  },
  "language_info": {
   "codemirror_mode": {
    "name": "ipython",
    "version": 3
   },
   "file_extension": ".py",
   "mimetype": "text/x-python",
   "name": "python",
   "nbconvert_exporter": "python",
   "pygments_lexer": "ipython3",
   "version": "3.10.0"
  }
 },
 "nbformat": 4,
 "nbformat_minor": 5
}
