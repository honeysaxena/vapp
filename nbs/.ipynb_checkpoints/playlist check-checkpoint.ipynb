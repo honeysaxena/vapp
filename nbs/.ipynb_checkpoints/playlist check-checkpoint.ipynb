{
 "cells": [
  {
   "cell_type": "code",
   "execution_count": 1,
   "id": "3581c66c",
   "metadata": {},
   "outputs": [
    {
     "name": "stdout",
     "output_type": "stream",
     "text": [
      "F:\\videoapp\n"
     ]
    }
   ],
   "source": [
    "%cd .."
   ]
  },
  {
   "cell_type": "code",
   "execution_count": 2,
   "id": "2d69bd81",
   "metadata": {},
   "outputs": [
    {
     "data": {
      "text/plain": [
       "'F:\\\\videoapp'"
      ]
     },
     "execution_count": 2,
     "metadata": {},
     "output_type": "execute_result"
    }
   ],
   "source": [
    "%pwd"
   ]
  },
  {
   "cell_type": "code",
   "execution_count": 3,
   "id": "1236dbf8",
   "metadata": {},
   "outputs": [
    {
     "name": "stdout",
     "output_type": "stream",
     "text": [
      "F:\\videoapp\\videoapp\n"
     ]
    }
   ],
   "source": [
    "from videoapp.database import SessionLocal\n",
    "from videoapp.playlists.models import Playlists\n",
    "from videoapp.videos.models import Video\n",
    "from videoapp.database import Base, engine\n",
    "import datetime\n",
    "from sqlalchemy import update, delete"
   ]
  },
  {
   "cell_type": "code",
   "execution_count": 4,
   "id": "ed7ce1d6",
   "metadata": {},
   "outputs": [],
   "source": [
    "Base.metadata.create_all(bind=engine)  \n"
   ]
  },
  {
   "cell_type": "code",
   "execution_count": 5,
   "id": "e5df30d6",
   "metadata": {},
   "outputs": [],
   "source": [
    "session = SessionLocal()\n"
   ]
  },
  {
   "cell_type": "code",
   "execution_count": 13,
   "id": "c75b1eca",
   "metadata": {},
   "outputs": [
    {
     "data": {
      "text/plain": [
       "'hello world'"
      ]
     },
     "execution_count": 13,
     "metadata": {},
     "output_type": "execute_result"
    }
   ],
   "source": [
    "obj = Playlists(title='hello world')\n",
    "obj.title"
   ]
  },
  {
   "cell_type": "code",
   "execution_count": 14,
   "id": "5fca1480",
   "metadata": {},
   "outputs": [],
   "source": [
    "session.add(obj)\n",
    "session.commit()\n",
    "session.refresh(obj)"
   ]
  },
  {
   "cell_type": "code",
   "execution_count": 17,
   "id": "905771c1",
   "metadata": {},
   "outputs": [],
   "source": [
    "#obj.updated = datetime.datetime.utcnow()\n",
    "#session.commit()"
   ]
  },
  {
   "cell_type": "code",
   "execution_count": 26,
   "id": "0cc8b551",
   "metadata": {},
   "outputs": [
    {
     "name": "stdout",
     "output_type": "stream",
     "text": [
      "(UUID('db3daad4-0f78-11ee-b745-c8cc3aeb055d'), None, datetime.datetime(2023, 6, 20, 14, 49, 28, 118191), <memory at 0x000001EF8F1B7100>, 'hello world')\n"
     ]
    }
   ],
   "source": [
    "from sqlalchemy import text\n",
    "statement = text(\"SELECT * FROM playlists\")\n",
    "result = session.execute(statement)\n",
    "for r in result:\n",
    "    print(r)"
   ]
  },
  {
   "cell_type": "code",
   "execution_count": 27,
   "id": "e56fd897",
   "metadata": {},
   "outputs": [
    {
     "name": "stdout",
     "output_type": "stream",
     "text": [
      "<class 'sqlalchemy.ext.mutable.MutableList'>\n"
     ]
    }
   ],
   "source": [
    "print(type(obj.host_ids))"
   ]
  },
  {
   "cell_type": "code",
   "execution_count": 52,
   "id": "d8ff8e93",
   "metadata": {},
   "outputs": [],
   "source": [
    "video1_q = session.query(Playlists).filter(Playlists.host_ids == obj.host_ids).all()\n",
    "\n",
    "for vobj in video1_q:\n",
    "    print(type(vobj.host_ids))"
   ]
  },
  {
   "cell_type": "code",
   "execution_count": 7,
   "id": "a6f76374",
   "metadata": {},
   "outputs": [],
   "source": [
    "#obj = Playlists(title='hello world')\n",
    "#session.add(obj)\n",
    "#session.commit()\n",
    "#session.refresh(obj)"
   ]
  },
  {
   "cell_type": "code",
   "execution_count": 8,
   "id": "b242cb56",
   "metadata": {},
   "outputs": [
    {
     "data": {
      "text/plain": [
       "\"\\nfor objects in session.query(Playlists).all():\\n    print(objects.title, objects.db_id, objects.updated)\\n    objects.host_ids = ['some new list']\\n    session.commit()\\n\""
      ]
     },
     "execution_count": 8,
     "metadata": {},
     "output_type": "execute_result"
    }
   ],
   "source": [
    "'''\n",
    "for objects in session.query(Playlists).all():\n",
    "    print(objects.title, objects.db_id, objects.updated)\n",
    "    objects.host_ids = ['some new list']\n",
    "    session.commit()\n",
    "'''"
   ]
  },
  {
   "cell_type": "code",
   "execution_count": 53,
   "id": "d5627b94",
   "metadata": {},
   "outputs": [
    {
     "data": {
      "text/plain": [
       "[]"
      ]
     },
     "execution_count": 53,
     "metadata": {},
     "output_type": "execute_result"
    }
   ],
   "source": [
    "video_id = session.query(Playlists).filter(Playlists.host_ids.in_(obj.host_ids)).all()\n",
    "video_id"
   ]
  },
  {
   "cell_type": "code",
   "execution_count": 58,
   "id": "526f28de",
   "metadata": {},
   "outputs": [
    {
     "name": "stdout",
     "output_type": "stream",
     "text": [
      "[Video(title=None, host_id=KQ-u4RcFLBY, host_service=youtube), Video(title=None, host_id=6MzxihE41b8, host_service=youtube), Video(title=None, host_id=sFV6R9GgPy4, host_service=youtube), Video(title=None, host_id=Ecir_Fq2goE, host_service=youtube), Video(title=None, host_id=q8TY-HEKcIA, host_service=youtube)]\n"
     ]
    }
   ],
   "source": [
    "from videoapp.videos.models import Video\n",
    "\n",
    "host_ids = session.query(Video).limit(5).all() #.values_list('host_id', flat=True)\n",
    "print(host_ids)"
   ]
  },
  {
   "cell_type": "code",
   "execution_count": null,
   "id": "1d1c44d0",
   "metadata": {},
   "outputs": [],
   "source": []
  }
 ],
 "metadata": {
  "kernelspec": {
   "display_name": "Python 3 (ipykernel)",
   "language": "python",
   "name": "python3"
  },
  "language_info": {
   "codemirror_mode": {
    "name": "ipython",
    "version": 3
   },
   "file_extension": ".py",
   "mimetype": "text/x-python",
   "name": "python",
   "nbconvert_exporter": "python",
   "pygments_lexer": "ipython3",
   "version": "3.10.0"
  }
 },
 "nbformat": 4,
 "nbformat_minor": 5
}
