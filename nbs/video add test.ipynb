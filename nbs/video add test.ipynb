{
 "cells": [
  {
   "cell_type": "code",
   "execution_count": null,
   "id": "3581c66c",
   "metadata": {},
   "outputs": [],
   "source": [
    "%cd .."
   ]
  },
  {
   "cell_type": "code",
   "execution_count": null,
   "id": "2d69bd81",
   "metadata": {},
   "outputs": [],
   "source": [
    "!pwd"
   ]
  },
  {
   "cell_type": "code",
   "execution_count": null,
   "id": "1236dbf8",
   "metadata": {},
   "outputs": [],
   "source": [
    "from videoapp.database import SessionLocal\n",
    "from videoapp.users.models import User\n",
    "from videoapp.videos.models import Video\n",
    "from videoapp.playlists.models import Playlists\n",
    "from videoapp.shortcuts import get_object_or_404\n",
    "from sqlalchemy.sql import text"
   ]
  },
  {
   "cell_type": "code",
   "execution_count": null,
   "id": "e5df30d6",
   "metadata": {},
   "outputs": [],
   "source": [
    "session = SessionLocal()\n",
    "allow_table_drop = False"
   ]
  },
  {
   "cell_type": "code",
   "execution_count": null,
   "id": "aa07ba97",
   "metadata": {},
   "outputs": [],
   "source": [
    "if allow_table_drop:\n",
    "    stmt = text('DROP TABLE IF EXISTS playlists')\n",
    "    session.execute(stmt)\n",
    "    "
   ]
  },
  {
   "cell_type": "code",
   "execution_count": null,
   "id": "84cc3230",
   "metadata": {},
   "outputs": [],
   "source": [
    "from videoapp.database import Base, engine\n",
    "Base.metadata.create_all(bind=engine)"
   ]
  },
  {
   "cell_type": "code",
   "execution_count": null,
   "id": "e37ac253",
   "metadata": {},
   "outputs": [],
   "source": [
    "obj = Playlists(title='Hello World')\n",
    "session.add(obj)\n",
    "session.commit()\n",
    "session.refresh(obj)\n",
    "obj"
   ]
  },
  {
   "cell_type": "code",
   "execution_count": null,
   "id": "2260aaad",
   "metadata": {},
   "outputs": [],
   "source": []
  },
  {
   "cell_type": "code",
   "execution_count": null,
   "id": "ec3dc31c",
   "metadata": {},
   "outputs": [],
   "source": [
    "obj.host_ids = ['some']\n",
    "\n",
    "session.commit()\n",
    "session.refresh(obj)\n",
    "obj"
   ]
  },
  {
   "cell_type": "code",
   "execution_count": null,
   "id": "2188aca9",
   "metadata": {},
   "outputs": [],
   "source": [
    "session.rollback()"
   ]
  },
  {
   "cell_type": "code",
   "execution_count": null,
   "id": "67d21e7b",
   "metadata": {},
   "outputs": [],
   "source": [
    "video_q = list(session.query(Video).filter(Video.host_id == [obj.host_ids]))\n",
    "for v in video_q:\n",
    "    print(v)"
   ]
  },
  {
   "cell_type": "code",
   "execution_count": null,
   "id": "acaeefce",
   "metadata": {},
   "outputs": [],
   "source": []
  }
 ],
 "metadata": {
  "kernelspec": {
   "display_name": "Python 3 (ipykernel)",
   "language": "python",
   "name": "python3"
  },
  "language_info": {
   "codemirror_mode": {
    "name": "ipython",
    "version": 3
   },
   "file_extension": ".py",
   "mimetype": "text/x-python",
   "name": "python",
   "nbconvert_exporter": "python",
   "pygments_lexer": "ipython3",
   "version": "3.10.0"
  }
 },
 "nbformat": 4,
 "nbformat_minor": 5
}
