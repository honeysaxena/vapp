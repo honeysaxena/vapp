{
 "cells": [
  {
   "cell_type": "code",
   "execution_count": 1,
   "id": "3581c66c",
   "metadata": {},
   "outputs": [
    {
     "name": "stdout",
     "output_type": "stream",
     "text": [
      "F:\\videoapp\n"
     ]
    }
   ],
   "source": [
    "%cd .."
   ]
  },
  {
   "cell_type": "code",
   "execution_count": null,
   "id": "2d69bd81",
   "metadata": {},
   "outputs": [],
   "source": [
    "!pwd"
   ]
  },
  {
   "cell_type": "code",
   "execution_count": 3,
   "id": "1236dbf8",
   "metadata": {},
   "outputs": [
    {
     "name": "stdout",
     "output_type": "stream",
     "text": [
      "F:\\videoapp\\videoapp\n"
     ]
    }
   ],
   "source": [
    "from videoapp.database import SessionLocal\n",
    "from videoapp.users.models import User\n",
    "from videoapp.videos.models import Video"
   ]
  },
  {
   "cell_type": "code",
   "execution_count": 4,
   "id": "e5df30d6",
   "metadata": {},
   "outputs": [],
   "source": [
    "session = SessionLocal()"
   ]
  },
  {
   "cell_type": "code",
   "execution_count": 5,
   "id": "9dbd5d52",
   "metadata": {},
   "outputs": [],
   "source": [
    "url = 'https://www.youtube.com/watch?v=KQ-u4RcFLBY&t=14403s'"
   ]
  },
  {
   "cell_type": "code",
   "execution_count": 6,
   "id": "19db4340",
   "metadata": {},
   "outputs": [
    {
     "name": "stdout",
     "output_type": "stream",
     "text": [
      "28fd7a8c-0bb1-11ee-b8c1-84eacb958499\n"
     ]
    }
   ],
   "source": [
    "abc = session.query(User).filter_by(email='xyz@gmail.com')\n",
    "for x in abc:\n",
    "    print(x.user_id)"
   ]
  },
  {
   "cell_type": "code",
   "execution_count": 13,
   "id": "9dec203f",
   "metadata": {},
   "outputs": [],
   "source": [
    "vid1 = Video.add_video(url, user_id=x.user_id)"
   ]
  },
  {
   "cell_type": "code",
   "execution_count": 14,
   "id": "d779c9af",
   "metadata": {},
   "outputs": [
    {
     "data": {
      "text/plain": [
       "Video(host_id=KQ-u4RcFLBY, host_service=youtube)"
      ]
     },
     "execution_count": 14,
     "metadata": {},
     "output_type": "execute_result"
    }
   ],
   "source": [
    "vid1"
   ]
  },
  {
   "cell_type": "code",
   "execution_count": 9,
   "id": "905771c1",
   "metadata": {},
   "outputs": [],
   "source": [
    "#url = 'https://www.youtube.com/watch?v=nNpvWBuTfrc&t=1s'\n",
    "#obj = Video.add_video(url, user_id=x.user_id)"
   ]
  },
  {
   "cell_type": "code",
   "execution_count": 10,
   "id": "e56fd897",
   "metadata": {},
   "outputs": [],
   "source": [
    "#obj"
   ]
  },
  {
   "cell_type": "code",
   "execution_count": 11,
   "id": "a6f76374",
   "metadata": {},
   "outputs": [],
   "source": [
    "#obj.host_id"
   ]
  },
  {
   "cell_type": "code",
   "execution_count": 12,
   "id": "dc3c7a34",
   "metadata": {},
   "outputs": [],
   "source": [
    "#obj.host_service"
   ]
  },
  {
   "cell_type": "code",
   "execution_count": null,
   "id": "b242cb56",
   "metadata": {},
   "outputs": [],
   "source": []
  }
 ],
 "metadata": {
  "kernelspec": {
   "display_name": "Python 3 (ipykernel)",
   "language": "python",
   "name": "python3"
  },
  "language_info": {
   "codemirror_mode": {
    "name": "ipython",
    "version": 3
   },
   "file_extension": ".py",
   "mimetype": "text/x-python",
   "name": "python",
   "nbconvert_exporter": "python",
   "pygments_lexer": "ipython3",
   "version": "3.10.0"
  }
 },
 "nbformat": 4,
 "nbformat_minor": 5
}
